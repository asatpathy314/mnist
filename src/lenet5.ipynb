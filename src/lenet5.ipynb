{
 "cells": [
  {
   "cell_type": "markdown",
   "id": "8e2b6627",
   "metadata": {},
   "source": [
    "Imports."
   ]
  },
  {
   "cell_type": "code",
   "execution_count": null,
   "id": "17db04f9",
   "metadata": {},
   "outputs": [],
   "source": [
    "import numpy as np\n",
    "import torch\n",
    "import torch.nn as nn\n",
    "import torch.nn.functional as F\n",
    "import platform\n",
    "import matplotlib.pyplot as plt\n",
    "from tqdm import tqdm\n",
    "import random\n",
    "import polars as pl\n",
    "\n",
    "from data import get_dataloaders\n",
    "from models import LeNet5, lenet5_init_\n",
    "from train import train, evaluate\n",
    "from levenberg_marquadt_optim import DiagLM\n"
   ]
  },
  {
   "cell_type": "code",
   "execution_count": null,
   "id": "cb3b2159",
   "metadata": {},
   "outputs": [],
   "source": [
    "print(torch.__version__, torch.cuda.is_available(), platform.python_version())\n",
    "device = 'mps' if torch.backends.mps.is_available() else 'cpu'\n"
   ]
  },
  {
   "cell_type": "code",
   "execution_count": null,
   "id": "6aaed20b",
   "metadata": {},
   "outputs": [],
   "source": [
    "BATCH_SIZE = 256\n",
    "EPOCHS = 10\n",
    "train_loader, test_loader = get_dataloaders(batch_size=BATCH_SIZE)\n",
    "ds_train = train_loader.dataset\n",
    "labels = pl.Series(name='label', values=ds_train.targets)\n",
    "print(labels.value_counts().sort('label'))\n",
    "random_num = ds_train.data[random.randint(0, len(ds_train))]\n",
    "plt.imshow(random_num.reshape((28, 28)), cmap='gray')\n",
    "plt.show()\n"
   ]
  },
  {
   "cell_type": "code",
   "execution_count": null,
   "id": "0104d241",
   "metadata": {},
   "outputs": [],
   "source": [
    "model = LeNet5().to(device)\n",
    "model.apply(lenet5_init_)\n",
    "opt = DiagLM(model.parameters(), lr=0.05)\n",
    "loss_fn = nn.CrossEntropyLoss()\n",
    "preprocess = lambda x: F.pad(x, (2, 2, 2, 2))\n",
    "loss_history = train(model, train_loader, loss_fn, opt, device, epochs=EPOCHS, preprocess=preprocess)\n",
    "plt.plot(loss_history)\n",
    "plt.xlabel('Epoch')\n",
    "plt.ylabel('Loss')\n"
   ]
  },
  {
   "cell_type": "code",
   "execution_count": null,
   "id": "e62b937a",
   "metadata": {},
   "outputs": [],
   "source": [
    "test_loss, accuracy = evaluate(model, test_loader, loss_fn, device, preprocess=preprocess)\n",
    "print(f'Test Loss: {test_loss:.4f}')\n",
    "print(f'Accuracy: {accuracy:.2f}%')\n"
   ]
  }
 ],
 "metadata": {
  "kernelspec": {
   "display_name": ".venv",
   "language": "python",
   "name": "python3"
  },
  "language_info": {
   "codemirror_mode": {
    "name": "ipython",
    "version": 3
   },
   "file_extension": ".py",
   "mimetype": "text/x-python",
   "name": "python",
   "nbconvert_exporter": "python",
   "pygments_lexer": "ipython3",
   "version": "3.12.1"
  }
 },
 "nbformat": 4,
 "nbformat_minor": 5
}
