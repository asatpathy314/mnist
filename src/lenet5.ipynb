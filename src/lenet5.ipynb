{
 "cells": [
  {
   "cell_type": "markdown",
   "id": "8e2b6627",
   "metadata": {},
   "source": [
    "Imports."
   ]
  },
  {
   "cell_type": "code",
   "execution_count": null,
   "id": "45141ea1",
   "metadata": {},
   "outputs": [],
   "source": [
    "import numpy as np\n",
    "from torchvision.datasets import MNIST\n",
    "import matplotlib.pyplot as plt\n",
    "import torch.nn as nn\n",
    "from torch.utils.data import DataLoader\n",
    "from torchvision.transforms import ToTensor\n",
    "from tqdm import tqdm\n",
    "from lenet5 import LeNet5, lenet5_init_"
   ]
  },
  {
   "cell_type": "code",
   "execution_count": null,
   "id": "78598b69",
   "metadata": {},
   "outputs": [],
   "source": [
    "ds_train = MNIST(root=\".\", download=True, train=True, transform=ToTensor())\n",
    "\n",
    "# flatten images / process data\n",
    "labels = pl.Series(name=\"label\", values=ds_train.targets)\n",
    "print(labels.value_counts().sort(\"label\"))\n",
    "\n",
    "random_num = ds_train.data[random.randint(0, len(ds_train))]\n",
    "plt.imshow(random_num.reshape((28, 28)), cmap=\"gray\")\n",
    "plt.show()"
   ]
  },
  {
   "cell_type": "code",
   "execution_count": null,
   "id": "26f96967",
   "metadata": {},
   "outputs": [],
   "source": []
  }
 ],
 "metadata": {
  "kernelspec": {
   "display_name": ".venv",
   "language": "python",
   "name": "python3"
  },
  "language_info": {
   "codemirror_mode": {
    "name": "ipython",
    "version": 3
   },
   "file_extension": ".py",
   "mimetype": "text/x-python",
   "name": "python",
   "nbconvert_exporter": "python",
   "pygments_lexer": "ipython3",
   "version": "3.12.1"
  }
 },
 "nbformat": 4,
 "nbformat_minor": 5
}
