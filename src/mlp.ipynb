{
 "cells": [
  {
   "cell_type": "markdown",
   "id": "c439b5aa",
   "metadata": {},
   "source": [
    "Imports."
   ]
  },
  {
   "cell_type": "code",
   "execution_count": null,
   "id": "35dc5fc9",
   "metadata": {},
   "outputs": [],
   "source": [
    "import polars as pl\n",
    "import numpy as np\n",
    "import matplotlib.pyplot as plt\n",
    "import torch\n",
    "import torch.nn as nn\n",
    "import platform\n",
    "from tqdm import tqdm\n",
    "import random\n",
    "\n",
    "from data import get_dataloaders\n",
    "from models import MLP\n",
    "from train import train, evaluate\n"
   ]
  },
  {
   "cell_type": "code",
   "execution_count": null,
   "id": "ce231d0a",
   "metadata": {},
   "outputs": [],
   "source": [
    "print(torch.__version__, torch.cuda.is_available(), platform.python_version())\n",
    "device = 'mps' if torch.backends.mps.is_available() else 'cpu'\n"
   ]
  },
  {
   "cell_type": "code",
   "execution_count": null,
   "id": "22f9d052",
   "metadata": {},
   "outputs": [],
   "source": [
    "BATCH_SIZE = 128\n",
    "EPOCHS = 10\n",
    "train_loader, test_loader = get_dataloaders(batch_size=BATCH_SIZE)\n",
    "ds_train = train_loader.dataset\n",
    "labels = pl.Series(name='label', values=ds_train.targets)\n",
    "print(labels.value_counts().sort('label'))\n",
    "random_num = ds_train.data[random.randint(0, len(ds_train))]\n",
    "plt.imshow(random_num.reshape((28, 28)), cmap='gray')\n",
    "plt.show()\n"
   ]
  },
  {
   "cell_type": "code",
   "execution_count": null,
   "id": "05bf381f",
   "metadata": {},
   "outputs": [],
   "source": [
    "model = MLP().to(device)\n",
    "opt = torch.optim.SGD(model.parameters(), lr=0.05)\n",
    "loss_fn = nn.CrossEntropyLoss()\n",
    "loss_history = train(model, train_loader, loss_fn, opt, device, epochs=EPOCHS,\n",
    "                     preprocess=lambda x: x.view(x.size(0), -1))\n",
    "plt.plot(loss_history)\n",
    "plt.xlabel('Epoch')\n",
    "plt.ylabel('Loss')\n"
   ]
  },
  {
   "cell_type": "code",
   "execution_count": null,
   "id": "e86dc53b",
   "metadata": {},
   "outputs": [],
   "source": [
    "test_loss, accuracy = evaluate(\n",
    "    model, test_loader, loss_fn, device,\n",
    "    preprocess=lambda x: x.view(x.size(0), -1)\n",
    ")\n",
    "print(f'Accuracy: {accuracy:.2f}%')\n"
   ]
  }
 ],
 "metadata": {
  "kernelspec": {
   "display_name": ".venv",
   "language": "python",
   "name": "python3"
  },
  "language_info": {
   "codemirror_mode": {
    "name": "ipython",
    "version": 3
   },
   "file_extension": ".py",
   "mimetype": "text/x-python",
   "name": "python",
   "nbconvert_exporter": "python",
   "pygments_lexer": "ipython3",
   "version": "3.12.1"
  }
 },
 "nbformat": 4,
 "nbformat_minor": 5
}
