{
 "cells": [
  {
   "cell_type": "markdown",
   "id": "c439b5aa",
   "metadata": {},
   "source": [
    "Imports."
   ]
  },
  {
   "cell_type": "code",
   "execution_count": 13,
   "id": "829b72ca",
   "metadata": {},
   "outputs": [],
   "source": [
    "import polars as pl\n",
    "import numpy as np\n",
    "from torchvision.datasets import MNIST\n",
    "import matplotlib.pyplot as plt\n",
    "import torch.nn as nn\n",
    "import torch\n",
    "import platform\n",
    "from torch.utils.data import DataLoader\n",
    "from torchvision.transforms import ToTensor\n",
    "from tqdm import tqdm\n",
    "from mlp import MLP\n",
    "import random"
   ]
  },
  {
   "cell_type": "code",
   "execution_count": 14,
   "id": "bf542d05",
   "metadata": {},
   "outputs": [
    {
     "name": "stdout",
     "output_type": "stream",
     "text": [
      "2.7.1 False 3.12.1\n"
     ]
    }
   ],
   "source": [
    "print(torch.__version__, torch.cuda.is_available(), platform.python_version())\n",
    "device = \"mps\" if torch.backends.mps.is_available() else \"cpu\""
   ]
  },
  {
   "cell_type": "markdown",
   "id": "3c5cca82",
   "metadata": {},
   "source": [
    "Load the dataset."
   ]
  },
  {
   "cell_type": "code",
   "execution_count": 15,
   "id": "82cbe3d5",
   "metadata": {},
   "outputs": [],
   "source": [
    "ds_train = MNIST(root=\".\", download=True, train=True, transform=ToTensor())"
   ]
  },
  {
   "cell_type": "markdown",
   "id": "d28b5aae",
   "metadata": {},
   "source": [
    "Sanity checks."
   ]
  },
  {
   "cell_type": "code",
   "execution_count": 16,
   "id": "f5a031b1",
   "metadata": {},
   "outputs": [
    {
     "name": "stdout",
     "output_type": "stream",
     "text": [
      "shape: (10, 2)\n",
      "┌───────┬───────┐\n",
      "│ label ┆ count │\n",
      "│ ---   ┆ ---   │\n",
      "│ i64   ┆ u32   │\n",
      "╞═══════╪═══════╡\n",
      "│ 0     ┆ 5923  │\n",
      "│ 1     ┆ 6742  │\n",
      "│ 2     ┆ 5958  │\n",
      "│ 3     ┆ 6131  │\n",
      "│ 4     ┆ 5842  │\n",
      "│ 5     ┆ 5421  │\n",
      "│ 6     ┆ 5918  │\n",
      "│ 7     ┆ 6265  │\n",
      "│ 8     ┆ 5851  │\n",
      "│ 9     ┆ 5949  │\n",
      "└───────┴───────┘\n"
     ]
    },
    {
     "data": {
      "image/png": "[encoded data removed]",
      "text/plain": [
       "<Figure size 640x480 with 1 Axes>"
      ]
     },
     "metadata": {},
     "output_type": "display_data"
    }
   ],
   "source": [
    "# flatten images / process data\n",
    "labels = pl.Series(name=\"label\", values=ds_train.targets)\n",
    "print(labels.value_counts().sort(\"label\"))\n",
    "\n",
    "random_num = ds_train.data[random.randint(0, len(ds_train))]\n",
    "plt.imshow(random_num.reshape((28, 28)), cmap=\"gray\")\n",
    "plt.show()"
   ]
  },
  {
   "cell_type": "markdown",
   "id": "978f1f4e",
   "metadata": {},
   "source": [
    "Define the MLP."
   ]
  },
  {
   "cell_type": "markdown",
   "id": "f30eec34",
   "metadata": {},
   "source": [
    "Instantiate training pre-conditions."
   ]
  },
  {
   "cell_type": "code",
   "execution_count": 17,
   "id": "d6637140",
   "metadata": {},
   "outputs": [],
   "source": [
    "EPOCHS = 10\n",
    "BATCH_SIZE = 128"
   ]
  },
  {
   "cell_type": "code",
   "execution_count": null,
   "id": "3f2a30b4",
   "metadata": {},
   "outputs": [],
   "source": [
    "train = DataLoader(ds_train, batch_size=BATCH_SIZE, shuffle=True)\n",
    "model = MLP().to(device)\n",
    "opt = torch.optim.SGD(model.parameters(), lr=0.05)\n",
    "loss_fn = nn.CrossEntropyLoss()"
   ]
  },
  {
   "cell_type": "markdown",
   "id": "d81f9745",
   "metadata": {},
   "source": [
    "Training loop."
   ]
  },
  {
   "cell_type": "code",
   "execution_count": null,
   "id": "a4652fa8",
   "metadata": {},
   "outputs": [
    {
     "name": "stderr",
     "output_type": "stream",
     "text": [
      " 10%|█         | 1/10 [00:02<00:21,  2.41s/it]"
     ]
    },
    {
     "name": "stdout",
     "output_type": "stream",
     "text": [
      "Epoch 1/10  |  loss: 0.9906\n"
     ]
    },
    {
     "name": "stderr",
     "output_type": "stream",
     "text": [
      " 20%|██        | 2/10 [00:04<00:19,  2.40s/it]"
     ]
    },
    {
     "name": "stdout",
     "output_type": "stream",
     "text": [
      "Epoch 2/10  |  loss: 0.3514\n"
     ]
    },
    {
     "name": "stderr",
     "output_type": "stream",
     "text": [
      " 30%|███       | 3/10 [00:07<00:16,  2.37s/it]"
     ]
    },
    {
     "name": "stdout",
     "output_type": "stream",
     "text": [
      "Epoch 3/10  |  loss: 0.2896\n"
     ]
    },
    {
     "name": "stderr",
     "output_type": "stream",
     "text": [
      " 40%|████      | 4/10 [00:09<00:14,  2.36s/it]"
     ]
    },
    {
     "name": "stdout",
     "output_type": "stream",
     "text": [
      "Epoch 4/10  |  loss: 0.2477\n"
     ]
    },
    {
     "name": "stderr",
     "output_type": "stream",
     "text": [
      " 50%|█████     | 5/10 [00:11<00:11,  2.29s/it]"
     ]
    },
    {
     "name": "stdout",
     "output_type": "stream",
     "text": [
      "Epoch 5/10  |  loss: 0.2153\n"
     ]
    },
    {
     "name": "stderr",
     "output_type": "stream",
     "text": [
      " 60%|██████    | 6/10 [00:13<00:09,  2.27s/it]"
     ]
    },
    {
     "name": "stdout",
     "output_type": "stream",
     "text": [
      "Epoch 6/10  |  loss: 0.1893\n"
     ]
    },
    {
     "name": "stderr",
     "output_type": "stream",
     "text": [
      " 70%|███████   | 7/10 [00:16<00:06,  2.25s/it]"
     ]
    },
    {
     "name": "stdout",
     "output_type": "stream",
     "text": [
      "Epoch 7/10  |  loss: 0.1672\n"
     ]
    },
    {
     "name": "stderr",
     "output_type": "stream",
     "text": [
      " 80%|████████  | 8/10 [00:18<00:04,  2.21s/it]"
     ]
    },
    {
     "name": "stdout",
     "output_type": "stream",
     "text": [
      "Epoch 8/10  |  loss: 0.1499\n"
     ]
    },
    {
     "name": "stderr",
     "output_type": "stream",
     "text": [
      " 90%|█████████ | 9/10 [00:20<00:02,  2.18s/it]"
     ]
    },
    {
     "name": "stdout",
     "output_type": "stream",
     "text": [
      "Epoch 9/10  |  loss: 0.1350\n"
     ]
    },
    {
     "name": "stderr",
     "output_type": "stream",
     "text": [
      "100%|██████████| 10/10 [00:22<00:00,  2.25s/it]"
     ]
    },
    {
     "name": "stdout",
     "output_type": "stream",
     "text": [
      "Epoch 10/10  |  loss: 0.1226\n"
     ]
    },
    {
     "name": "stderr",
     "output_type": "stream",
     "text": [
      "\n"
     ]
    }
   ],
   "source": [
    "losses = np.zeros((len(train), EPOCHS))\n",
    "for epoch in tqdm(range(EPOCHS)):\n",
    "    running_loss = 0.0\n",
    "    train_iter = iter(train)\n",
    "    for sample_idx, (imgs, labels) in enumerate(train_iter):\n",
    "        imgs = imgs.view(-1, 28 * 28).to(device)\n",
    "        labels = labels.to(device)\n",
    "        logits = model(imgs)\n",
    "        loss = loss_fn(logits, labels)\n",
    "        opt.zero_grad()\n",
    "        loss.backward()\n",
    "        opt.step()\n",
    "        running_loss += loss.item()\n",
    "        losses[sample_idx, epoch] = loss.item()\n",
    "    avg = running_loss / len(train)\n",
    "    print(f\"Epoch {epoch+1}/{EPOCHS}  |  loss: {avg:.4f}\")"
   ]
  },
  {
   "cell_type": "code",
   "execution_count": null,
   "id": "7c09db1c",
   "metadata": {},
   "outputs": [
    {
     "data": {
      "text/plain": [
       "Text(0, 0.5, 'Cross-entropy loss')"
      ]
     },
     "execution_count": 20,
     "metadata": {},
     "output_type": "execute_result"
    },
    {
     "data": {
      "image/png": "[encoded data removed]",
      "text/plain": [
       "<Figure size 640x480 with 1 Axes>"
      ]
     },
     "metadata": {},
     "output_type": "display_data"
    }
   ],
   "source": [
    "average_epoch_losses = np.mean(losses, axis=0)\n",
    "plt.plot(average_epoch_losses)\n",
    "plt.xlabel(\"Batch step\")\n",
    "plt.ylabel(\"Cross-entropy loss\")"
   ]
  },
  {
   "cell_type": "markdown",
   "id": "8a3baeda",
   "metadata": {},
   "source": [
    "Evaluation."
   ]
  },
  {
   "cell_type": "code",
   "execution_count": null,
   "id": "b025467b",
   "metadata": {},
   "outputs": [
    {
     "name": "stdout",
     "output_type": "stream",
     "text": [
      "Accuracy: 96.18%\n"
     ]
    }
   ],
   "source": [
    "ds_test = MNIST(root=\".\", download=True, train=False)\n",
    "model.eval()                                # turn off dropout/BN (habit)\n",
    "\n",
    "with torch.no_grad():\n",
    "    imgs = ds_test.data.view(-1, 28*28).float().div_(255).to(device)\n",
    "    labels = ds_test.targets.to(device)\n",
    "\n",
    "    logits = model(imgs)\n",
    "    preds = logits.argmax(dim=1)\n",
    "\n",
    "    correct = (preds == labels).sum().item()\n",
    "    total = labels.size(0)\n",
    "\n",
    "print(f\"Accuracy: {correct / total:.2%}\")                            # restore training mode"
   ]
  }
 ],
 "metadata": {
  "kernelspec": {
   "display_name": ".venv",
   "language": "python",
   "name": "python3"
  },
  "language_info": {
   "codemirror_mode": {
    "name": "ipython",
    "version": 3
   },
   "file_extension": ".py",
   "mimetype": "text/x-python",
   "name": "python",
   "nbconvert_exporter": "python",
   "pygments_lexer": "ipython3",
   "version": "3.12.1"
  }
 },
 "nbformat": 4,
 "nbformat_minor": 5
}
